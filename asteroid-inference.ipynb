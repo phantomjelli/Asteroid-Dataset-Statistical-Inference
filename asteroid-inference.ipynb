{
 "cells": [
  {
   "cell_type": "markdown",
   "metadata": {},
   "source": [
    "# STAT 207 Project 02 - Asteroid Inference Project\n",
    "\n",
    "Victor Liu and Shawn Zhang"
   ]
  },
  {
   "cell_type": "markdown",
   "metadata": {},
   "source": [
    "## 1. Introduction"
   ]
  },
  {
   "cell_type": "markdown",
   "metadata": {},
   "source": [
    "For this project I am using the same dataset (https://www.kaggle.com/datasets/sakhawat18/asteroid-dataset) from Kaggle that I used in the first STAT 207 project containing information regarding numerous asteroids in the solar system that have been discovered by astronomers all over the world. The original data is officially maintained by the Jet Propulsion Laboratory of California Institute of Technology, an organization under NASA, on its database search engine (https://ssd.jpl.nasa.gov/tools/sbdb_query.html) and has been transferred to Kaggle by an astronomy and astrophysics researcher. The Kaggle dataset is generally updated weekly as a result of new information/data gathered regarding any of the asteroids listed so there are numerous versions of the dataset that have been made and will be made in the future. As of the start of this project (3/18/2024), I'm using Version 190 of the data."
   ]
  },
  {
   "cell_type": "markdown",
   "metadata": {},
   "source": [
    "The dataset represents a sample, albeit a large one, of all asteroids currently in the solar system which is also the population of interest. Astronomers and astrophysicists would definitely find this dataset useful for doing any research about the various characteristics of asteroids in general, or at least just the ones that have been catalogued. As mentioned in my previous project, these results could be used by astronomers and astrophysicists to better determine and identify potentially hazardous asteroids in the future and warn authorities if necessary. Analysis could be done to find relationship between the many variables listed in the dataset and used to further our understanding of asteroids in the solar system. The reason why I'm using this dataset is because I'm interested in astronomy. "
   ]
  },
  {
   "cell_type": "markdown",
   "metadata": {},
   "source": [
    "Some research questions that I want to answer:\n",
    "\n",
    "- What is the median Earth MOID (Minimum orbit intersection distance, aka closest distance between two osculating orbits of two bodies in space) in this sample? What is a reasonable range of values for the median MOID of the population of all asteroids that are in the solar system?\n",
    "- What is the relationship between the Apollo (APO)/Amor (AMO) orbital classes (the two largest near earth orbit classes) and pha (potentially hazardous asteroid) status in this dataset? Is there an association between those two variables in the population of all asteroids in the solar system?\n",
    "\n",
    "The answers to these questions can help astronomers and astrophysicists better identify characteristics of potentially hazardous asteroids as new asteroids are cataloged and information about previously discovered asteroids is updated. The answers could also help humanity better understand some of the astronomical neighbors that exist within our solar system."
   ]
  },
  {
   "cell_type": "code",
   "execution_count": 88,
   "metadata": {},
   "outputs": [],
   "source": [
    "#Imports here\n",
    "import pandas as pd\n",
    "import matplotlib.pyplot as plt\n",
    "import seaborn as sns; sns.set()\n",
    "import numpy as np\n",
    "from scipy.stats import norm\n",
    "from statsmodels.stats.proportion import proportions_ztest\n",
    "\n",
    "sns.set(rc={'figure.figsize':(25, 10)})"
   ]
  },
  {
   "cell_type": "markdown",
   "metadata": {},
   "source": [
    "## 2. Confidence Interval Analytical Tasks"
   ]
  },
  {
   "cell_type": "markdown",
   "metadata": {},
   "source": [
    "To state the research question again, I want to know the median Earth MOID of the sample and a reasonable range of values for the median MOID of the population of all asteroids in the solar system."
   ]
  },
  {
   "cell_type": "markdown",
   "metadata": {},
   "source": [
    "Before I tackle those questions I'll quickly clean up the dataset for analysis. Since I'm only using the moid for the confidence interval, the cleaning process won't be that complicated."
   ]
  },
  {
   "cell_type": "code",
   "execution_count": 89,
   "metadata": {},
   "outputs": [
    {
     "data": {
      "text/html": [
       "<div>\n",
       "<style scoped>\n",
       "    .dataframe tbody tr th:only-of-type {\n",
       "        vertical-align: middle;\n",
       "    }\n",
       "\n",
       "    .dataframe tbody tr th {\n",
       "        vertical-align: top;\n",
       "    }\n",
       "\n",
       "    .dataframe thead th {\n",
       "        text-align: right;\n",
       "    }\n",
       "</style>\n",
       "<table border=\"1\" class=\"dataframe\">\n",
       "  <thead>\n",
       "    <tr style=\"text-align: right;\">\n",
       "      <th></th>\n",
       "      <th>id</th>\n",
       "      <th>spkid</th>\n",
       "      <th>full_name</th>\n",
       "      <th>pdes</th>\n",
       "      <th>name</th>\n",
       "      <th>prefix</th>\n",
       "      <th>neo</th>\n",
       "      <th>pha</th>\n",
       "      <th>H</th>\n",
       "      <th>diameter</th>\n",
       "      <th>...</th>\n",
       "      <th>sigma_i</th>\n",
       "      <th>sigma_om</th>\n",
       "      <th>sigma_w</th>\n",
       "      <th>sigma_ma</th>\n",
       "      <th>sigma_ad</th>\n",
       "      <th>sigma_n</th>\n",
       "      <th>sigma_tp</th>\n",
       "      <th>sigma_per</th>\n",
       "      <th>class</th>\n",
       "      <th>rms</th>\n",
       "    </tr>\n",
       "  </thead>\n",
       "  <tbody>\n",
       "    <tr>\n",
       "      <th>0</th>\n",
       "      <td>a0000001</td>\n",
       "      <td>2000001</td>\n",
       "      <td>1 Ceres</td>\n",
       "      <td>1</td>\n",
       "      <td>Ceres</td>\n",
       "      <td>NaN</td>\n",
       "      <td>N</td>\n",
       "      <td>N</td>\n",
       "      <td>3.40</td>\n",
       "      <td>939.400</td>\n",
       "      <td>...</td>\n",
       "      <td>4.608900e-09</td>\n",
       "      <td>6.168800e-08</td>\n",
       "      <td>6.624800e-08</td>\n",
       "      <td>7.820700e-09</td>\n",
       "      <td>1.111300e-11</td>\n",
       "      <td>1.196500e-12</td>\n",
       "      <td>3.782900e-08</td>\n",
       "      <td>9.415900e-09</td>\n",
       "      <td>MBA</td>\n",
       "      <td>0.43301</td>\n",
       "    </tr>\n",
       "    <tr>\n",
       "      <th>1</th>\n",
       "      <td>a0000002</td>\n",
       "      <td>2000002</td>\n",
       "      <td>2 Pallas</td>\n",
       "      <td>2</td>\n",
       "      <td>Pallas</td>\n",
       "      <td>NaN</td>\n",
       "      <td>N</td>\n",
       "      <td>N</td>\n",
       "      <td>4.20</td>\n",
       "      <td>545.000</td>\n",
       "      <td>...</td>\n",
       "      <td>3.469400e-06</td>\n",
       "      <td>6.272400e-06</td>\n",
       "      <td>9.128200e-06</td>\n",
       "      <td>8.859100e-06</td>\n",
       "      <td>4.961300e-09</td>\n",
       "      <td>4.653600e-10</td>\n",
       "      <td>4.078700e-05</td>\n",
       "      <td>3.680700e-06</td>\n",
       "      <td>MBA</td>\n",
       "      <td>0.35936</td>\n",
       "    </tr>\n",
       "    <tr>\n",
       "      <th>2</th>\n",
       "      <td>a0000003</td>\n",
       "      <td>2000003</td>\n",
       "      <td>3 Juno</td>\n",
       "      <td>3</td>\n",
       "      <td>Juno</td>\n",
       "      <td>NaN</td>\n",
       "      <td>N</td>\n",
       "      <td>N</td>\n",
       "      <td>5.33</td>\n",
       "      <td>246.596</td>\n",
       "      <td>...</td>\n",
       "      <td>3.223100e-06</td>\n",
       "      <td>1.664600e-05</td>\n",
       "      <td>1.772100e-05</td>\n",
       "      <td>8.110400e-06</td>\n",
       "      <td>4.363900e-09</td>\n",
       "      <td>4.413400e-10</td>\n",
       "      <td>3.528800e-05</td>\n",
       "      <td>3.107200e-06</td>\n",
       "      <td>MBA</td>\n",
       "      <td>0.33848</td>\n",
       "    </tr>\n",
       "    <tr>\n",
       "      <th>3</th>\n",
       "      <td>a0000004</td>\n",
       "      <td>2000004</td>\n",
       "      <td>4 Vesta</td>\n",
       "      <td>4</td>\n",
       "      <td>Vesta</td>\n",
       "      <td>NaN</td>\n",
       "      <td>N</td>\n",
       "      <td>N</td>\n",
       "      <td>3.00</td>\n",
       "      <td>525.400</td>\n",
       "      <td>...</td>\n",
       "      <td>2.170600e-07</td>\n",
       "      <td>3.880800e-07</td>\n",
       "      <td>1.789300e-07</td>\n",
       "      <td>1.206800e-06</td>\n",
       "      <td>1.648600e-09</td>\n",
       "      <td>2.612500e-10</td>\n",
       "      <td>4.103700e-06</td>\n",
       "      <td>1.274900e-06</td>\n",
       "      <td>MBA</td>\n",
       "      <td>0.39980</td>\n",
       "    </tr>\n",
       "    <tr>\n",
       "      <th>4</th>\n",
       "      <td>a0000005</td>\n",
       "      <td>2000005</td>\n",
       "      <td>5 Astraea</td>\n",
       "      <td>5</td>\n",
       "      <td>Astraea</td>\n",
       "      <td>NaN</td>\n",
       "      <td>N</td>\n",
       "      <td>N</td>\n",
       "      <td>6.90</td>\n",
       "      <td>106.699</td>\n",
       "      <td>...</td>\n",
       "      <td>2.740800e-06</td>\n",
       "      <td>2.894900e-05</td>\n",
       "      <td>2.984200e-05</td>\n",
       "      <td>8.303800e-06</td>\n",
       "      <td>4.729000e-09</td>\n",
       "      <td>5.522700e-10</td>\n",
       "      <td>3.474300e-05</td>\n",
       "      <td>3.490500e-06</td>\n",
       "      <td>MBA</td>\n",
       "      <td>0.52191</td>\n",
       "    </tr>\n",
       "    <tr>\n",
       "      <th>5</th>\n",
       "      <td>a0000006</td>\n",
       "      <td>2000006</td>\n",
       "      <td>6 Hebe</td>\n",
       "      <td>6</td>\n",
       "      <td>Hebe</td>\n",
       "      <td>NaN</td>\n",
       "      <td>N</td>\n",
       "      <td>N</td>\n",
       "      <td>5.80</td>\n",
       "      <td>185.180</td>\n",
       "      <td>...</td>\n",
       "      <td>2.191800e-06</td>\n",
       "      <td>1.122100e-05</td>\n",
       "      <td>1.300600e-05</td>\n",
       "      <td>7.392200e-06</td>\n",
       "      <td>3.306700e-09</td>\n",
       "      <td>4.438800e-10</td>\n",
       "      <td>2.875400e-05</td>\n",
       "      <td>2.344500e-06</td>\n",
       "      <td>MBA</td>\n",
       "      <td>0.41032</td>\n",
       "    </tr>\n",
       "    <tr>\n",
       "      <th>6</th>\n",
       "      <td>a0000007</td>\n",
       "      <td>2000007</td>\n",
       "      <td>7 Iris</td>\n",
       "      <td>7</td>\n",
       "      <td>Iris</td>\n",
       "      <td>NaN</td>\n",
       "      <td>N</td>\n",
       "      <td>N</td>\n",
       "      <td>5.60</td>\n",
       "      <td>199.830</td>\n",
       "      <td>...</td>\n",
       "      <td>2.582500e-06</td>\n",
       "      <td>2.641200e-05</td>\n",
       "      <td>2.707500e-05</td>\n",
       "      <td>7.014700e-06</td>\n",
       "      <td>2.469500e-09</td>\n",
       "      <td>3.370100e-10</td>\n",
       "      <td>2.662700e-05</td>\n",
       "      <td>1.699400e-06</td>\n",
       "      <td>MBA</td>\n",
       "      <td>0.38128</td>\n",
       "    </tr>\n",
       "    <tr>\n",
       "      <th>7</th>\n",
       "      <td>a0000008</td>\n",
       "      <td>2000008</td>\n",
       "      <td>8 Flora</td>\n",
       "      <td>8</td>\n",
       "      <td>Flora</td>\n",
       "      <td>NaN</td>\n",
       "      <td>N</td>\n",
       "      <td>N</td>\n",
       "      <td>6.50</td>\n",
       "      <td>147.491</td>\n",
       "      <td>...</td>\n",
       "      <td>3.240300e-06</td>\n",
       "      <td>2.432000e-05</td>\n",
       "      <td>2.664600e-05</td>\n",
       "      <td>1.209200e-05</td>\n",
       "      <td>2.668100e-09</td>\n",
       "      <td>4.746200e-10</td>\n",
       "      <td>4.018700e-05</td>\n",
       "      <td>1.876500e-06</td>\n",
       "      <td>MBA</td>\n",
       "      <td>0.54186</td>\n",
       "    </tr>\n",
       "    <tr>\n",
       "      <th>8</th>\n",
       "      <td>a0000009</td>\n",
       "      <td>2000009</td>\n",
       "      <td>9 Metis</td>\n",
       "      <td>9</td>\n",
       "      <td>Metis</td>\n",
       "      <td>NaN</td>\n",
       "      <td>N</td>\n",
       "      <td>N</td>\n",
       "      <td>6.30</td>\n",
       "      <td>190.000</td>\n",
       "      <td>...</td>\n",
       "      <td>2.007400e-06</td>\n",
       "      <td>2.417000e-05</td>\n",
       "      <td>2.600800e-05</td>\n",
       "      <td>1.036600e-05</td>\n",
       "      <td>3.470200e-09</td>\n",
       "      <td>5.192700e-10</td>\n",
       "      <td>3.870700e-05</td>\n",
       "      <td>2.614600e-06</td>\n",
       "      <td>MBA</td>\n",
       "      <td>0.44895</td>\n",
       "    </tr>\n",
       "    <tr>\n",
       "      <th>9</th>\n",
       "      <td>a0000010</td>\n",
       "      <td>2000010</td>\n",
       "      <td>10 Hygiea</td>\n",
       "      <td>10</td>\n",
       "      <td>Hygiea</td>\n",
       "      <td>NaN</td>\n",
       "      <td>N</td>\n",
       "      <td>N</td>\n",
       "      <td>5.50</td>\n",
       "      <td>407.120</td>\n",
       "      <td>...</td>\n",
       "      <td>2.173400e-06</td>\n",
       "      <td>2.855200e-05</td>\n",
       "      <td>3.023700e-05</td>\n",
       "      <td>1.124600e-05</td>\n",
       "      <td>7.699800e-09</td>\n",
       "      <td>5.847400e-10</td>\n",
       "      <td>6.482900e-05</td>\n",
       "      <td>6.724400e-06</td>\n",
       "      <td>MBA</td>\n",
       "      <td>0.53434</td>\n",
       "    </tr>\n",
       "  </tbody>\n",
       "</table>\n",
       "<p>10 rows × 45 columns</p>\n",
       "</div>"
      ],
      "text/plain": [
       "         id    spkid       full_name pdes     name prefix neo pha     H  \\\n",
       "0  a0000001  2000001         1 Ceres    1    Ceres    NaN   N   N  3.40   \n",
       "1  a0000002  2000002        2 Pallas    2   Pallas    NaN   N   N  4.20   \n",
       "2  a0000003  2000003          3 Juno    3     Juno    NaN   N   N  5.33   \n",
       "3  a0000004  2000004         4 Vesta    4    Vesta    NaN   N   N  3.00   \n",
       "4  a0000005  2000005       5 Astraea    5  Astraea    NaN   N   N  6.90   \n",
       "5  a0000006  2000006          6 Hebe    6     Hebe    NaN   N   N  5.80   \n",
       "6  a0000007  2000007          7 Iris    7     Iris    NaN   N   N  5.60   \n",
       "7  a0000008  2000008         8 Flora    8    Flora    NaN   N   N  6.50   \n",
       "8  a0000009  2000009         9 Metis    9    Metis    NaN   N   N  6.30   \n",
       "9  a0000010  2000010       10 Hygiea   10   Hygiea    NaN   N   N  5.50   \n",
       "\n",
       "   diameter  ...       sigma_i      sigma_om       sigma_w      sigma_ma  \\\n",
       "0   939.400  ...  4.608900e-09  6.168800e-08  6.624800e-08  7.820700e-09   \n",
       "1   545.000  ...  3.469400e-06  6.272400e-06  9.128200e-06  8.859100e-06   \n",
       "2   246.596  ...  3.223100e-06  1.664600e-05  1.772100e-05  8.110400e-06   \n",
       "3   525.400  ...  2.170600e-07  3.880800e-07  1.789300e-07  1.206800e-06   \n",
       "4   106.699  ...  2.740800e-06  2.894900e-05  2.984200e-05  8.303800e-06   \n",
       "5   185.180  ...  2.191800e-06  1.122100e-05  1.300600e-05  7.392200e-06   \n",
       "6   199.830  ...  2.582500e-06  2.641200e-05  2.707500e-05  7.014700e-06   \n",
       "7   147.491  ...  3.240300e-06  2.432000e-05  2.664600e-05  1.209200e-05   \n",
       "8   190.000  ...  2.007400e-06  2.417000e-05  2.600800e-05  1.036600e-05   \n",
       "9   407.120  ...  2.173400e-06  2.855200e-05  3.023700e-05  1.124600e-05   \n",
       "\n",
       "       sigma_ad       sigma_n      sigma_tp     sigma_per  class      rms  \n",
       "0  1.111300e-11  1.196500e-12  3.782900e-08  9.415900e-09    MBA  0.43301  \n",
       "1  4.961300e-09  4.653600e-10  4.078700e-05  3.680700e-06    MBA  0.35936  \n",
       "2  4.363900e-09  4.413400e-10  3.528800e-05  3.107200e-06    MBA  0.33848  \n",
       "3  1.648600e-09  2.612500e-10  4.103700e-06  1.274900e-06    MBA  0.39980  \n",
       "4  4.729000e-09  5.522700e-10  3.474300e-05  3.490500e-06    MBA  0.52191  \n",
       "5  3.306700e-09  4.438800e-10  2.875400e-05  2.344500e-06    MBA  0.41032  \n",
       "6  2.469500e-09  3.370100e-10  2.662700e-05  1.699400e-06    MBA  0.38128  \n",
       "7  2.668100e-09  4.746200e-10  4.018700e-05  1.876500e-06    MBA  0.54186  \n",
       "8  3.470200e-09  5.192700e-10  3.870700e-05  2.614600e-06    MBA  0.44895  \n",
       "9  7.699800e-09  5.847400e-10  6.482900e-05  6.724400e-06    MBA  0.53434  \n",
       "\n",
       "[10 rows x 45 columns]"
      ]
     },
     "execution_count": 89,
     "metadata": {},
     "output_type": "execute_result"
    }
   ],
   "source": [
    "asteroid = pd.read_csv(\"asteroids.csv\", low_memory=False)\n",
    "asteroid.head(10)"
   ]
  },
  {
   "cell_type": "code",
   "execution_count": 90,
   "metadata": {},
   "outputs": [
    {
     "data": {
      "text/plain": [
       "958524"
      ]
     },
     "execution_count": 90,
     "metadata": {},
     "output_type": "execute_result"
    }
   ],
   "source": [
    "len(asteroid)"
   ]
  },
  {
   "cell_type": "markdown",
   "metadata": {},
   "source": [
    "Assigning the moid column to a new dataframe so it's easier to work with. Also checking to see how many missing values there are for moid."
   ]
  },
  {
   "cell_type": "code",
   "execution_count": 91,
   "metadata": {},
   "outputs": [
    {
     "data": {
      "text/plain": [
       "moid    19921\n",
       "dtype: int64"
      ]
     },
     "execution_count": 91,
     "metadata": {},
     "output_type": "execute_result"
    }
   ],
   "source": [
    "asteroid1 = asteroid[[\"moid\"]]\n",
    "asteroid1.isna().sum()"
   ]
  },
  {
   "cell_type": "markdown",
   "metadata": {},
   "source": [
    "I dropped 19,921 missing values because they make up only 2.078% of the total sample of 958,524. I do not think that dropping them will greatly impact the results or validity of my analysis and inference."
   ]
  },
  {
   "cell_type": "code",
   "execution_count": 92,
   "metadata": {},
   "outputs": [],
   "source": [
    "asteroid1_clean = asteroid1.dropna()"
   ]
  },
  {
   "cell_type": "markdown",
   "metadata": {},
   "source": [
    "Because we are only looking for the median moid of asteroids in the sample, I don't think it's necessary to drop any observations with values regardless of how extreme they are because the median is resistant to outliers. Assuming the measurements recorded are likely as accurate as possible with the current methods and technology used to measure or calculate them, all these observations should be real, and thus considered in inference, regardless of how extreme they are. I will be using visualizations later but I can just adjust the range of the values displayed as to make the visualization more understandable while keeping those very extreme outliers in the dataset. Some benefits of doing it this way is that I use as many moid observations as possible in my inference and don't lose any more data or reduce the validity of my inference results."
   ]
  },
  {
   "cell_type": "markdown",
   "metadata": {},
   "source": [
    "Some limitations in the data include the fact that we may not know the exact values for the moid of some asteroids listed in the dataset as mentioned previously. At the end of the day, many values in the dataset will just be our very best guesses using the best of current technology. Even still, the moids of some asteroids in this dataset may be missing because astronomers and astrophysicists are still in the process of measuring and/or calculating them or because they still can't be determined using current methods and/or technology. Even though the dataset is large, it doesn't contain every identified asteroid which, according to the JPL home website (https://ssd.jpl.nasa.gov), is 1,353,780 as of (3/20/2024) and will continue to increase with time, so it definitely couldn't contain the population of all asteroids in our solar system."
   ]
  },
  {
   "cell_type": "markdown",
   "metadata": {},
   "source": [
    "Here's the dataset after cleaning."
   ]
  },
  {
   "cell_type": "code",
   "execution_count": 93,
   "metadata": {},
   "outputs": [
    {
     "data": {
      "text/html": [
       "<div>\n",
       "<style scoped>\n",
       "    .dataframe tbody tr th:only-of-type {\n",
       "        vertical-align: middle;\n",
       "    }\n",
       "\n",
       "    .dataframe tbody tr th {\n",
       "        vertical-align: top;\n",
       "    }\n",
       "\n",
       "    .dataframe thead th {\n",
       "        text-align: right;\n",
       "    }\n",
       "</style>\n",
       "<table border=\"1\" class=\"dataframe\">\n",
       "  <thead>\n",
       "    <tr style=\"text-align: right;\">\n",
       "      <th></th>\n",
       "      <th>moid</th>\n",
       "    </tr>\n",
       "  </thead>\n",
       "  <tbody>\n",
       "    <tr>\n",
       "      <th>0</th>\n",
       "      <td>1.594780</td>\n",
       "    </tr>\n",
       "    <tr>\n",
       "      <th>1</th>\n",
       "      <td>1.234290</td>\n",
       "    </tr>\n",
       "    <tr>\n",
       "      <th>2</th>\n",
       "      <td>1.034290</td>\n",
       "    </tr>\n",
       "    <tr>\n",
       "      <th>3</th>\n",
       "      <td>1.139480</td>\n",
       "    </tr>\n",
       "    <tr>\n",
       "      <th>4</th>\n",
       "      <td>1.095750</td>\n",
       "    </tr>\n",
       "    <tr>\n",
       "      <th>...</th>\n",
       "      <td>...</td>\n",
       "    </tr>\n",
       "    <tr>\n",
       "      <th>958519</th>\n",
       "      <td>0.861979</td>\n",
       "    </tr>\n",
       "    <tr>\n",
       "      <th>958520</th>\n",
       "      <td>0.671242</td>\n",
       "    </tr>\n",
       "    <tr>\n",
       "      <th>958521</th>\n",
       "      <td>0.035589</td>\n",
       "    </tr>\n",
       "    <tr>\n",
       "      <th>958522</th>\n",
       "      <td>0.893896</td>\n",
       "    </tr>\n",
       "    <tr>\n",
       "      <th>958523</th>\n",
       "      <td>0.680220</td>\n",
       "    </tr>\n",
       "  </tbody>\n",
       "</table>\n",
       "<p>938603 rows × 1 columns</p>\n",
       "</div>"
      ],
      "text/plain": [
       "            moid\n",
       "0       1.594780\n",
       "1       1.234290\n",
       "2       1.034290\n",
       "3       1.139480\n",
       "4       1.095750\n",
       "...          ...\n",
       "958519  0.861979\n",
       "958520  0.671242\n",
       "958521  0.035589\n",
       "958522  0.893896\n",
       "958523  0.680220\n",
       "\n",
       "[938603 rows x 1 columns]"
      ]
     },
     "execution_count": 93,
     "metadata": {},
     "output_type": "execute_result"
    }
   ],
   "source": [
    "asteroid1_clean"
   ]
  },
  {
   "cell_type": "markdown",
   "metadata": {},
   "source": [
    "Now I can properly answer the first question I originally asked."
   ]
  },
  {
   "cell_type": "code",
   "execution_count": 95,
   "metadata": {},
   "outputs": [
    {
     "data": {
      "text/plain": [
       "Text(0.5, 1.0, 'Histogram of Earth MOIDs in Astronomical Units')"
      ]
     },
     "execution_count": 95,
     "metadata": {},
     "output_type": "execute_result"
    },
    {
     "data": {
      "image/png": "[encoded data removed]",
      "text/plain": [
       "<Figure size 2500x1000 with 1 Axes>"
      ]
     },
     "metadata": {},
     "output_type": "display_data"
    }
   ],
   "source": [
    "asteroid1_clean[\"moid\"].hist(bins=100, range = [0, 5])\n",
    "plt.xlabel(\"Earth Minimum Orbit Intersection Distance (AU)\")\n",
    "plt.ylabel(\"Frequency\")\n",
    "plt.title(\"Histogram of Earth MOIDs in Astronomical Units\")"
   ]
  },
  {
   "cell_type": "markdown",
   "metadata": {},
   "source": [
    "To answer my first question, it appears that the median moid of the sample is 1.24 AU. This means that the majority of asteroids in this sample get fairly close to the Earth on an astronomical scale. This value also matches fairly well with what is displayed in the histogram of the variable. Checking the histogram of earth moids, it seems that using median as a measure of center is the way to go because the graph is skewed right. It's also resistant to those extreme outliers in the dataset that I left as I mentioned earlier."
   ]
  },
  {
   "cell_type": "markdown",
   "metadata": {},
   "source": [
    "For the second question, I need to construct a confidence interval. I've decided to go with a confidence level of 90%."
   ]
  },
  {
   "cell_type": "markdown",
   "metadata": {},
   "source": [
    "To create the sampling distribution in order to get a confidence level, I decided to calculate the sample medians for 5000 samples of size 100 each with replacement."
   ]
  },
  {
   "cell_type": "code",
   "execution_count": 96,
   "metadata": {},
   "outputs": [
    {
     "data": {
      "text/html": [
       "<div>\n",
       "<style scoped>\n",
       "    .dataframe tbody tr th:only-of-type {\n",
       "        vertical-align: middle;\n",
       "    }\n",
       "\n",
       "    .dataframe tbody tr th {\n",
       "        vertical-align: top;\n",
       "    }\n",
       "\n",
       "    .dataframe thead th {\n",
       "        text-align: right;\n",
       "    }\n",
       "</style>\n",
       "<table border=\"1\" class=\"dataframe\">\n",
       "  <thead>\n",
       "    <tr style=\"text-align: right;\">\n",
       "      <th></th>\n",
       "      <th>medians</th>\n",
       "    </tr>\n",
       "  </thead>\n",
       "  <tbody>\n",
       "    <tr>\n",
       "      <th>0</th>\n",
       "      <td>1.258705</td>\n",
       "    </tr>\n",
       "    <tr>\n",
       "      <th>1</th>\n",
       "      <td>1.342670</td>\n",
       "    </tr>\n",
       "    <tr>\n",
       "      <th>2</th>\n",
       "      <td>1.239770</td>\n",
       "    </tr>\n",
       "    <tr>\n",
       "      <th>3</th>\n",
       "      <td>1.199895</td>\n",
       "    </tr>\n",
       "    <tr>\n",
       "      <th>4</th>\n",
       "      <td>1.322370</td>\n",
       "    </tr>\n",
       "    <tr>\n",
       "      <th>...</th>\n",
       "      <td>...</td>\n",
       "    </tr>\n",
       "    <tr>\n",
       "      <th>4995</th>\n",
       "      <td>1.285270</td>\n",
       "    </tr>\n",
       "    <tr>\n",
       "      <th>4996</th>\n",
       "      <td>1.221315</td>\n",
       "    </tr>\n",
       "    <tr>\n",
       "      <th>4997</th>\n",
       "      <td>1.200600</td>\n",
       "    </tr>\n",
       "    <tr>\n",
       "      <th>4998</th>\n",
       "      <td>1.221985</td>\n",
       "    </tr>\n",
       "    <tr>\n",
       "      <th>4999</th>\n",
       "      <td>1.187780</td>\n",
       "    </tr>\n",
       "  </tbody>\n",
       "</table>\n",
       "<p>5000 rows × 1 columns</p>\n",
       "</div>"
      ],
      "text/plain": [
       "       medians\n",
       "0     1.258705\n",
       "1     1.342670\n",
       "2     1.239770\n",
       "3     1.199895\n",
       "4     1.322370\n",
       "...        ...\n",
       "4995  1.285270\n",
       "4996  1.221315\n",
       "4997  1.200600\n",
       "4998  1.221985\n",
       "4999  1.187780\n",
       "\n",
       "[5000 rows x 1 columns]"
      ]
     },
     "execution_count": 96,
     "metadata": {},
     "output_type": "execute_result"
    }
   ],
   "source": [
    "data = []\n",
    "for i in range(5000):\n",
    "    sample = asteroid1_clean.sample(100, replace=True)\n",
    "    data.append(sample[\"moid\"].median())\n",
    "sampling_distr1 = pd.DataFrame({\"medians\":data})\n",
    "sampling_distr1"
   ]
  },
  {
   "cell_type": "markdown",
   "metadata": {},
   "source": [
    "Here I'm using a visualization to display the sampling distribution that I'm using to create the confidence interval."
   ]
  },
  {
   "cell_type": "code",
   "execution_count": 97,
   "metadata": {},
   "outputs": [
    {
     "data": {
      "text/plain": [
       "Text(0.5, 1.0, 'Sampling Distribution of Earth MOIDs in Astronomical Units')"
      ]
     },
     "execution_count": 97,
     "metadata": {},
     "output_type": "execute_result"
    },
    {
     "data": {
      "image/png": "[encoded data removed]",
      "text/plain": [
       "<Figure size 2500x1000 with 1 Axes>"
      ]
     },
     "metadata": {},
     "output_type": "display_data"
    }
   ],
   "source": [
    "sampling_distr1.hist(bins=50)\n",
    "plt.xlabel(\"Median Earth MOID for Sample Size 100 (AU)\")\n",
    "plt.ylabel(\"Frequency\")\n",
    "plt.title(\"Sampling Distribution of Earth MOIDs in Astronomical Units\")"
   ]
  },
  {
   "cell_type": "markdown",
   "metadata": {},
   "source": [
    "To get the confidence interval from this sampling distribution, I find the 0.05 and 0.95 quantiles of the sampling distribution to get the bounds for the middle 90% of the sample medians."
   ]
  },
  {
   "cell_type": "code",
   "execution_count": 98,
   "metadata": {},
   "outputs": [
    {
     "data": {
      "text/html": [
       "<div>\n",
       "<style scoped>\n",
       "    .dataframe tbody tr th:only-of-type {\n",
       "        vertical-align: middle;\n",
       "    }\n",
       "\n",
       "    .dataframe tbody tr th {\n",
       "        vertical-align: top;\n",
       "    }\n",
       "\n",
       "    .dataframe thead th {\n",
       "        text-align: right;\n",
       "    }\n",
       "</style>\n",
       "<table border=\"1\" class=\"dataframe\">\n",
       "  <thead>\n",
       "    <tr style=\"text-align: right;\">\n",
       "      <th></th>\n",
       "      <th>medians</th>\n",
       "    </tr>\n",
       "  </thead>\n",
       "  <tbody>\n",
       "    <tr>\n",
       "      <th>0.05</th>\n",
       "      <td>1.146658</td>\n",
       "    </tr>\n",
       "    <tr>\n",
       "      <th>0.95</th>\n",
       "      <td>1.351247</td>\n",
       "    </tr>\n",
       "  </tbody>\n",
       "</table>\n",
       "</div>"
      ],
      "text/plain": [
       "       medians\n",
       "0.05  1.146658\n",
       "0.95  1.351247"
      ]
     },
     "execution_count": 98,
     "metadata": {},
     "output_type": "execute_result"
    }
   ],
   "source": [
    "sampling_distr1.quantile([0.05, 0.95])"
   ]
  },
  {
   "cell_type": "markdown",
   "metadata": {},
   "source": [
    "From this sampling distribution, my 90% confidence interval goes from 1.15 AU to 1.35 AU."
   ]
  },
  {
   "cell_type": "markdown",
   "metadata": {},
   "source": [
    "This 90% confidence level means that out of 100 confidence intervals generated from sampling distributions that are simulated with the same number of samples and sample size, around 90 of those confidence intervals will contain the true population median moid of all asteroids that are in the solar system. The confidence interval that I got from the data means that I am 90% confident that the true population median moid of all asteroids in the solar system is between 1.15 AU and 1.35 AU."
   ]
  },
  {
   "cell_type": "markdown",
   "metadata": {},
   "source": [
    "The approach to answer the first question is very straightfoward and using a sampling distribution to get a confidence interval with a high confidence level helps me get that reasonable range of values that I want for the second question. These help answer my questions as now I know the median moid of all observations with values in the sample which is 1.24 AU and know a reasonable range of values for the median moid of the population of all asteroids in the solar system which is from 1.15 AU to 1.35 AU."
   ]
  },
  {
   "cell_type": "markdown",
   "metadata": {},
   "source": [
    "## 3. Hypothesis Testing Analytical Tasks"
   ]
  },
  {
   "cell_type": "markdown",
   "metadata": {},
   "source": [
    "To state the research question again, I wanted to find the relationship between the Apollo and Amor asteroid orbital class and their pha status and whether there was an association between the two for the population of all asteroids existing in the solar system."
   ]
  },
  {
   "cell_type": "markdown",
   "metadata": {},
   "source": [
    "For dataset cleaning I'll check to see there are any missing variables for the two categorical variables."
   ]
  },
  {
   "cell_type": "code",
   "execution_count": 99,
   "metadata": {},
   "outputs": [
    {
     "data": {
      "text/plain": [
       "pha      19921\n",
       "class        0\n",
       "dtype: int64"
      ]
     },
     "execution_count": 99,
     "metadata": {},
     "output_type": "execute_result"
    }
   ],
   "source": [
    "asteroid2 = asteroid[['pha', 'class']]\n",
    "asteroid2.isnull().sum()"
   ]
  },
  {
   "cell_type": "code",
   "execution_count": 100,
   "metadata": {},
   "outputs": [
    {
     "data": {
      "text/html": [
       "<div>\n",
       "<style scoped>\n",
       "    .dataframe tbody tr th:only-of-type {\n",
       "        vertical-align: middle;\n",
       "    }\n",
       "\n",
       "    .dataframe tbody tr th {\n",
       "        vertical-align: top;\n",
       "    }\n",
       "\n",
       "    .dataframe thead th {\n",
       "        text-align: right;\n",
       "    }\n",
       "</style>\n",
       "<table border=\"1\" class=\"dataframe\">\n",
       "  <thead>\n",
       "    <tr style=\"text-align: right;\">\n",
       "      <th></th>\n",
       "      <th>pha</th>\n",
       "      <th>class</th>\n",
       "    </tr>\n",
       "  </thead>\n",
       "  <tbody>\n",
       "    <tr>\n",
       "      <th>432</th>\n",
       "      <td>N</td>\n",
       "      <td>AMO</td>\n",
       "    </tr>\n",
       "    <tr>\n",
       "      <th>718</th>\n",
       "      <td>N</td>\n",
       "      <td>AMO</td>\n",
       "    </tr>\n",
       "    <tr>\n",
       "      <th>886</th>\n",
       "      <td>N</td>\n",
       "      <td>AMO</td>\n",
       "    </tr>\n",
       "    <tr>\n",
       "      <th>1035</th>\n",
       "      <td>N</td>\n",
       "      <td>AMO</td>\n",
       "    </tr>\n",
       "    <tr>\n",
       "      <th>1220</th>\n",
       "      <td>N</td>\n",
       "      <td>AMO</td>\n",
       "    </tr>\n",
       "    <tr>\n",
       "      <th>...</th>\n",
       "      <td>...</td>\n",
       "      <td>...</td>\n",
       "    </tr>\n",
       "    <tr>\n",
       "      <th>958510</th>\n",
       "      <td>N</td>\n",
       "      <td>APO</td>\n",
       "    </tr>\n",
       "    <tr>\n",
       "      <th>958511</th>\n",
       "      <td>N</td>\n",
       "      <td>APO</td>\n",
       "    </tr>\n",
       "    <tr>\n",
       "      <th>958512</th>\n",
       "      <td>N</td>\n",
       "      <td>APO</td>\n",
       "    </tr>\n",
       "    <tr>\n",
       "      <th>958513</th>\n",
       "      <td>N</td>\n",
       "      <td>APO</td>\n",
       "    </tr>\n",
       "    <tr>\n",
       "      <th>958521</th>\n",
       "      <td>Y</td>\n",
       "      <td>APO</td>\n",
       "    </tr>\n",
       "  </tbody>\n",
       "</table>\n",
       "<p>21143 rows × 2 columns</p>\n",
       "</div>"
      ],
      "text/plain": [
       "       pha class\n",
       "432      N   AMO\n",
       "718      N   AMO\n",
       "886      N   AMO\n",
       "1035     N   AMO\n",
       "1220     N   AMO\n",
       "...     ..   ...\n",
       "958510   N   APO\n",
       "958511   N   APO\n",
       "958512   N   APO\n",
       "958513   N   APO\n",
       "958521   Y   APO\n",
       "\n",
       "[21143 rows x 2 columns]"
      ]
     },
     "execution_count": 100,
     "metadata": {},
     "output_type": "execute_result"
    }
   ],
   "source": [
    "asteroid2_clean = asteroid2.dropna(subset=['pha', 'class'])\n",
    "asteroid2_clean = asteroid2_clean[(asteroid2_clean[\"class\"] == \"APO\") | (asteroid2_clean[\"class\"] == \"AMO\")]\n",
    "asteroid2_clean"
   ]
  },
  {
   "cell_type": "markdown",
   "metadata": {},
   "source": [
    "I decided to drop the 19,921 missing values in the pha variable because it is only 2.078% of the entire dataset so not much data will be lost. This means that I don't lose much data when sampling for the hypothesis testing and the results will still be valid and applicable to the entire population of asteroids in the solar system."
   ]
  },
  {
   "cell_type": "markdown",
   "metadata": {},
   "source": [
    "My two populations will be the Apollo and Amor orbital classes. The data that I'll be using are two separate samples of asteroids."
   ]
  },
  {
   "cell_type": "code",
   "execution_count": 101,
   "metadata": {},
   "outputs": [
    {
     "data": {
      "text/plain": [
       "(pha\n",
       " N    19257\n",
       " Y     1886\n",
       " Name: count, dtype: int64,\n",
       " class\n",
       " APO    12687\n",
       " AMO     8456\n",
       " Name: count, dtype: int64)"
      ]
     },
     "execution_count": 101,
     "metadata": {},
     "output_type": "execute_result"
    }
   ],
   "source": [
    "pha_counts = asteroid2_clean['pha'].value_counts()\n",
    "class_counts = asteroid2_clean['class'].value_counts()\n",
    "pha_counts, class_counts"
   ]
  },
  {
   "cell_type": "markdown",
   "metadata": {},
   "source": [
    "Next I'll get the sample proportions of phas within the two orbit class populations that I mentioned earlier. Proportions is definitely the way to go here because the two variables we're working with are categorical ones so we'll be doing a difference of proportions for the hypothesis test."
   ]
  },
  {
   "cell_type": "code",
   "execution_count": 102,
   "metadata": {},
   "outputs": [
    {
     "data": {
      "text/plain": [
       "0.1393552455269173"
      ]
     },
     "execution_count": 102,
     "metadata": {},
     "output_type": "execute_result"
    }
   ],
   "source": [
    "apollo = asteroid2_clean[asteroid2_clean[\"class\"] == \"APO\"]\n",
    "apo_prop = (apollo[\"pha\"] == \"Y\").mean()\n",
    "apo_prop"
   ]
  },
  {
   "cell_type": "code",
   "execution_count": 103,
   "metadata": {},
   "outputs": [
    {
     "data": {
      "text/plain": [
       "0.013954588457899717"
      ]
     },
     "execution_count": 103,
     "metadata": {},
     "output_type": "execute_result"
    }
   ],
   "source": [
    "amor = asteroid2_clean[asteroid2_clean[\"class\"] == \"AMO\"]\n",
    "amo_prop = (amor[\"pha\"] == \"Y\").mean()\n",
    "amo_prop"
   ]
  },
  {
   "cell_type": "code",
   "execution_count": 104,
   "metadata": {},
   "outputs": [
    {
     "data": {
      "image/png": "[encoded data removed]",
      "text/plain": [
       "<Figure size 2500x1000 with 1 Axes>"
      ]
     },
     "metadata": {},
     "output_type": "display_data"
    }
   ],
   "source": [
    "sns.countplot(data=asteroid2_clean, x='class', hue='pha')\n",
    "plt.title('Count of Apollo and Amor Asteroid Class and PHA Status')\n",
    "plt.xlabel('Orbital Class')\n",
    "plt.ylabel('Count')\n",
    "plt.legend(title='PHA Status')\n",
    "plt.show()"
   ]
  },
  {
   "cell_type": "markdown",
   "metadata": {},
   "source": [
    "From the countplot we can see that in both classes, there are far more non-phas than phas. Also from the plot we can see that the proportion of phas within the Apollo orbit class seems to be larger than the proportion of phas within the Amor orbit class. Looking at the actual proportion calculations above the graph, we can see that the two value are quite different, but is the difference up to random chance and negligible or is it significant? We'll see with the hypothesis test below."
   ]
  },
  {
   "cell_type": "markdown",
   "metadata": {},
   "source": [
    "## Hypothesis Testing"
   ]
  },
  {
   "cell_type": "markdown",
   "metadata": {},
   "source": [
    "After cleaning the dataset by dropping rows with missing values, I'm left with a clear dataset that is a representation of our population of interest: all asteroids in the solar system.\n",
    "\n",
    "In this next part, I will be conducting a hypothesis test. The hypothesis test aims to determine if the proportions of phas are consistent across the Apollo and Amor orbital classes. Specifically, I want to know if the difference in proportions observed is statistically significant or if it could be attributed to natural sample variation.\n",
    "\n",
    "$p_1$ is the population proportion of Apollo orbital class asteroids that are phas and $p_2$ is the population proportion of Amor orbital class asteroids that are phas.\n",
    "\n",
    "$H_0: $\n",
    " The proportion of PHAs is the same between the populations of Apollo and Amor orbital classes: $p_1$ = $p_2$\n",
    "\n",
    "$H_a: $\n",
    " The proportion of PHAs is not the same between the populations of Apollo and Amor orbital classes: $p_1$ ≠ $p_2$\n",
    "\n",
    "I'll go with a common significance level of 0.05 for this hypothesis test."
   ]
  },
  {
   "cell_type": "markdown",
   "metadata": {},
   "source": [
    "To check the conditions for the test, the samples generated are random and the sample size of each sample is over 30 as verified below."
   ]
  },
  {
   "cell_type": "code",
   "execution_count": 105,
   "metadata": {},
   "outputs": [
    {
     "data": {
      "text/plain": [
       "1768"
      ]
     },
     "execution_count": 105,
     "metadata": {},
     "output_type": "execute_result"
    }
   ],
   "source": [
    "len(apollo[apollo[\"pha\"] == \"Y\"])"
   ]
  },
  {
   "cell_type": "code",
   "execution_count": 106,
   "metadata": {},
   "outputs": [
    {
     "data": {
      "text/plain": [
       "118"
      ]
     },
     "execution_count": 106,
     "metadata": {},
     "output_type": "execute_result"
    }
   ],
   "source": [
    "len(amor[amor[\"pha\"] == \"Y\"])"
   ]
  },
  {
   "cell_type": "markdown",
   "metadata": {},
   "source": [
    "To adjust the hypothesis to fit the null hypothesis, I'll find the sample difference in proportions from the dataset of the two orbital classes and subtract that value from each of the difference in proportions using sampling to get a sampling distribution centered around a difference in proportions of 0. "
   ]
  },
  {
   "cell_type": "code",
   "execution_count": 107,
   "metadata": {},
   "outputs": [
    {
     "data": {
      "text/plain": [
       "0.1254006570690176"
      ]
     },
     "execution_count": 107,
     "metadata": {},
     "output_type": "execute_result"
    }
   ],
   "source": [
    "apo_prop-amo_prop"
   ]
  },
  {
   "cell_type": "code",
   "execution_count": 108,
   "metadata": {},
   "outputs": [
    {
     "data": {
      "text/html": [
       "<div>\n",
       "<style scoped>\n",
       "    .dataframe tbody tr th:only-of-type {\n",
       "        vertical-align: middle;\n",
       "    }\n",
       "\n",
       "    .dataframe tbody tr th {\n",
       "        vertical-align: top;\n",
       "    }\n",
       "\n",
       "    .dataframe thead th {\n",
       "        text-align: right;\n",
       "    }\n",
       "</style>\n",
       "<table border=\"1\" class=\"dataframe\">\n",
       "  <thead>\n",
       "    <tr style=\"text-align: right;\">\n",
       "      <th></th>\n",
       "      <th>prop_diff</th>\n",
       "    </tr>\n",
       "  </thead>\n",
       "  <tbody>\n",
       "    <tr>\n",
       "      <th>0</th>\n",
       "      <td>-0.011694</td>\n",
       "    </tr>\n",
       "    <tr>\n",
       "      <th>1</th>\n",
       "      <td>0.023355</td>\n",
       "    </tr>\n",
       "    <tr>\n",
       "      <th>2</th>\n",
       "      <td>0.008668</td>\n",
       "    </tr>\n",
       "    <tr>\n",
       "      <th>3</th>\n",
       "      <td>-0.007169</td>\n",
       "    </tr>\n",
       "    <tr>\n",
       "      <th>4</th>\n",
       "      <td>0.004709</td>\n",
       "    </tr>\n",
       "    <tr>\n",
       "      <th>...</th>\n",
       "      <td>...</td>\n",
       "    </tr>\n",
       "    <tr>\n",
       "      <th>4995</th>\n",
       "      <td>-0.005462</td>\n",
       "    </tr>\n",
       "    <tr>\n",
       "      <th>4996</th>\n",
       "      <td>0.024486</td>\n",
       "    </tr>\n",
       "    <tr>\n",
       "      <th>4997</th>\n",
       "      <td>0.004699</td>\n",
       "    </tr>\n",
       "    <tr>\n",
       "      <th>4998</th>\n",
       "      <td>0.006396</td>\n",
       "    </tr>\n",
       "    <tr>\n",
       "      <th>4999</th>\n",
       "      <td>0.004709</td>\n",
       "    </tr>\n",
       "  </tbody>\n",
       "</table>\n",
       "<p>5000 rows × 1 columns</p>\n",
       "</div>"
      ],
      "text/plain": [
       "      prop_diff\n",
       "0     -0.011694\n",
       "1      0.023355\n",
       "2      0.008668\n",
       "3     -0.007169\n",
       "4      0.004709\n",
       "...         ...\n",
       "4995  -0.005462\n",
       "4996   0.024486\n",
       "4997   0.004699\n",
       "4998   0.006396\n",
       "4999   0.004709\n",
       "\n",
       "[5000 rows x 1 columns]"
      ]
     },
     "execution_count": 108,
     "metadata": {},
     "output_type": "execute_result"
    }
   ],
   "source": [
    "data = []\n",
    "for i in range(5000):\n",
    "    sample1 = apollo.sample(len(apollo[apollo[\"pha\"] == \"Y\"]), replace=True)\n",
    "    sample2 = amor.sample(len(amor[amor[\"pha\"] == \"Y\"]), replace=True)\n",
    "    diff_prop = (sample1['pha'] == 'Y').mean() - (sample2['pha'] == 'Y').mean()\n",
    "    data.append(diff_prop-0.1254006570690176)\n",
    "sampling_distr2 = pd.DataFrame({\"prop_diff\":data})\n",
    "sampling_distr2"
   ]
  },
  {
   "cell_type": "markdown",
   "metadata": {},
   "source": [
    "Here I'm using a visualization to display the sampling distribution that I'm using for the hypothesis test."
   ]
  },
  {
   "cell_type": "code",
   "execution_count": 109,
   "metadata": {},
   "outputs": [
    {
     "data": {
      "text/plain": [
       "Text(0.5, 1.0, 'Sampling Distribution of Difference in PHA Proportion between Apollo and Amor Asteroid Orbit Classes')"
      ]
     },
     "execution_count": 109,
     "metadata": {},
     "output_type": "execute_result"
    },
    {
     "data": {
      "image/png": "[encoded data removed]",
      "text/plain": [
       "<Figure size 2500x1000 with 1 Axes>"
      ]
     },
     "metadata": {},
     "output_type": "display_data"
    }
   ],
   "source": [
    "sampling_distr2.hist(bins=50, range = [-0.06, 0.06])\n",
    "plt.xlabel(\"Difference in Proportions of PHAs between Apollo and Amor Asteroids\")\n",
    "plt.ylabel(\"Frequency\")\n",
    "plt.title(\"Sampling Distribution of Difference in PHA Proportion between Apollo and Amor Asteroid Orbit Classes\")"
   ]
  },
  {
   "cell_type": "markdown",
   "metadata": {},
   "source": [
    "Now for the p-value. I'll be finding the proportion of values above and below the positive and negative values, respectively, of the sample difference in proportions of phas between the Apollo and Amor asteroids."
   ]
  },
  {
   "cell_type": "code",
   "execution_count": 110,
   "metadata": {},
   "outputs": [
    {
     "data": {
      "text/plain": [
       "0.0"
      ]
     },
     "execution_count": 110,
     "metadata": {},
     "output_type": "execute_result"
    }
   ],
   "source": [
    "p_val = len(sampling_distr2[(sampling_distr2[\"prop_diff\"] <= -0.1254006570690176) | (sampling_distr2[\"prop_diff\"] >= 0.1254006570690176)])/len(sampling_distr2)\n",
    "p_val"
   ]
  },
  {
   "cell_type": "markdown",
   "metadata": {},
   "source": [
    "The resulting p-value from this test was found to be 0, which isn't unexpected looking at the sampling distribution graph."
   ]
  },
  {
   "cell_type": "markdown",
   "metadata": {},
   "source": [
    "The meaning of the alpha or significance level is that it is probability of rejecting the null hypothesis when it is true, also known as Type I error. Considering the p-value of exactly 0, which is much lower than the alpha level of 0.05, we reject the null hypothesis that the difference in proportion of phas between the populations of Apollo and Amor asteroids is the same. This implies that our data does provide sufficient evidence to conclude that there is a statistically significant difference in the proportion of PHAs between the two orbital classes."
   ]
  },
  {
   "cell_type": "markdown",
   "metadata": {},
   "source": [
    "## 4. Conclusion"
   ]
  },
  {
   "cell_type": "markdown",
   "metadata": {},
   "source": [
    "To summarize the project, I took a dataset from Kaggle which was originally maintained by NASA's Jet Propulsion Laboratory and cleaned the data using various methods and criteria before using it for some analysis as well as inference. A relatively small proportion of the data was removed because characteristics about the asteroid were missing. From the first set of questions I found out that the median moid of asteroids in the dataset was 1.24 AU and the 90% confidence interval for the median moid of the population of all asteroids identified by humanity is between 1.15 AU and 1.35 AU. From the second set of questions I discovered that the proportion of phas for both orbit classes was quite small in comparison to the total amount in each orbit class. I also discovered that the population difference in proportions between the two asteroid orbit classes is not zero, meaning that there is a significant difference in the proportion of phas in the Apollo orbit classes and that of the Amor orbit classes."
   ]
  },
  {
   "cell_type": "markdown",
   "metadata": {},
   "source": [
    "As for limitations, not all identified asteroids are used in the dataset but I'm assuming that the cleaned dataset of over 900,000 asteroids is fairly representative of all asteroids in the solar system in regards to the characteristics that were used in this project. Another limitation is that we may never truly know how many asteroids are in the solar system exactly because of various difficulties such as in defining the boundaries of the solar system or what constitutes an asteroid, keeping track of the entry and departure of asteroids to or from the solar system with time, or in finding and tracking every last asteroid. The population of asteroids in the solar system should be a definite number, just one that no one might ever know, so the population median of all asteroids in the solar system similarly might not ever be found, meaning that I'll probably have no way of checking to see if my confidence interval is actually accurate. Even still, the population of all asteroids discovered by humanity is constantly increasing, so maybe one day the value of that population parameter may be found. These conclusions could help astronomers and astrophysicists better identify asteroids that are potentially hazardous which are catalogued in the future. In regards to future work, more inference could definitely be done with the multitude of other variables that I didn't use in this project and other people could use the conclusions drawn from this project to create more informed and meaningful research questions to analyze."
   ]
  }
 ],
 "metadata": {
  "kernelspec": {
   "display_name": "Python 3 (ipykernel)",
   "language": "python",
   "name": "python3"
  },
  "language_info": {
   "codemirror_mode": {
    "name": "ipython",
    "version": 3
   },
   "file_extension": ".py",
   "mimetype": "text/x-python",
   "name": "python",
   "nbconvert_exporter": "python",
   "pygments_lexer": "ipython3",
   "version": "3.11.8"
  }
 },
 "nbformat": 4,
 "nbformat_minor": 4
}
